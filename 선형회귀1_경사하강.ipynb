{
  "nbformat": 4,
  "nbformat_minor": 0,
  "metadata": {
    "colab": {
      "provenance": [],
      "mount_file_id": "13lNfaX-vUmPYUOvk6J9oHcNTqUzT0Vbt",
      "authorship_tag": "ABX9TyNdeiS1Y7s+aNGfJYnnr6+P",
      "include_colab_link": true
    },
    "kernelspec": {
      "name": "python3",
      "display_name": "Python 3"
    },
    "language_info": {
      "name": "python"
    }
  },
  "cells": [
    {
      "cell_type": "markdown",
      "metadata": {
        "id": "view-in-github",
        "colab_type": "text"
      },
      "source": [
        "<a href=\"https://colab.research.google.com/github/chw8207/ML_codingstudy/blob/main/%EC%84%A0%ED%98%95%ED%9A%8C%EA%B7%801_%EA%B2%BD%EC%82%AC%ED%95%98%EA%B0%95.ipynb\" target=\"_parent\"><img src=\"https://colab.research.google.com/assets/colab-badge.svg\" alt=\"Open In Colab\"/></a>"
      ]
    },
    {
      "cell_type": "markdown",
      "source": [
        "### 단순선형귀-경사하강(Gradient Descent)"
      ],
      "metadata": {
        "id": "bzpOkpJUW-4O"
      }
    },
    {
      "cell_type": "code",
      "execution_count": 1,
      "metadata": {
        "id": "T0zfKGVpUmYh"
      },
      "outputs": [],
      "source": [
        "import numpy as np\n",
        "import random\n",
        "\n",
        "import matplotlib.pyplot as plt"
      ]
    },
    {
      "cell_type": "code",
      "source": [
        "def generate_data(n_samples, bias, variance) : \n",
        "  X = np.zeros(shape=(n_samples, 2)) # 단순선형회귀(독립변수 1개)\n",
        "  y = np.zeros(shape=n_samples)\n",
        "\n",
        "  for i in range(n_samples) : \n",
        "    X[i][0] = 1 # X_0은 상수 1로 셋팅하기\n",
        "    X[i][1] = i # X_1값은 1씩 증가시키기\n",
        "    y[i] = (i+bias) + random.uniform(0,1) * variance # y에 bias생성하기\n",
        "\n",
        "  return X, y"
      ],
      "metadata": {
        "id": "8UWgeu-QXREM"
      },
      "execution_count": 7,
      "outputs": []
    },
    {
      "cell_type": "code",
      "source": [
        "X, y = generate_data(100, 25, 10)"
      ],
      "metadata": {
        "id": "TQhtTNmiYMKB"
      },
      "execution_count": 8,
      "outputs": []
    },
    {
      "cell_type": "code",
      "source": [
        "X"
      ],
      "metadata": {
        "id": "dMwfWTsNY0QP"
      },
      "execution_count": null,
      "outputs": []
    },
    {
      "cell_type": "code",
      "source": [
        "y"
      ],
      "metadata": {
        "colab": {
          "base_uri": "https://localhost:8080/"
        },
        "id": "9d_q7shTY3E5",
        "outputId": "6d424666-20a8-49df-aaa0-0db73321a236"
      },
      "execution_count": 10,
      "outputs": [
        {
          "output_type": "execute_result",
          "data": {
            "text/plain": [
              "array([ 33.82291494,  31.99731028,  28.74507565,  29.336977  ,\n",
              "        33.73969977,  35.48262359,  34.5480441 ,  41.93019551,\n",
              "        39.13269474,  42.44934734,  41.14727182,  44.68484559,\n",
              "        42.39660287,  40.43019436,  42.23698626,  44.94559598,\n",
              "        50.96929817,  47.45287995,  49.84328342,  50.90907206,\n",
              "        52.19905735,  55.41123108,  54.37022462,  51.76409581,\n",
              "        55.45811298,  50.34981101,  51.08444902,  59.61808859,\n",
              "        57.86411459,  62.19268421,  62.63692351,  59.85976669,\n",
              "        61.23876368,  63.64453227,  60.56004843,  60.71107606,\n",
              "        63.81244242,  68.04077903,  67.08990073,  69.43309985,\n",
              "        74.39717322,  67.40442602,  75.3043478 ,  69.74306656,\n",
              "        75.14834291,  75.98545961,  78.19811719,  78.42878574,\n",
              "        81.38457424,  80.70465291,  77.16725861,  84.09678178,\n",
              "        81.93502845,  84.27239023,  87.8989786 ,  86.24301271,\n",
              "        83.74002046,  86.82067147,  89.93537219,  90.5429473 ,\n",
              "        91.82302504,  93.14134135,  94.07663361,  92.02358789,\n",
              "        94.56712037,  94.06404292,  93.59314887,  95.37867736,\n",
              "        99.18092554,  96.7092936 , 101.53902994, 101.26077005,\n",
              "        99.72570154, 102.99023603, 102.19707683, 109.87763181,\n",
              "       107.88857089, 108.38642655, 110.70032944, 112.82215847,\n",
              "       105.8554594 , 107.94863215, 110.75390565, 114.66994553,\n",
              "       112.41900678, 119.10933094, 114.62062716, 116.95306501,\n",
              "       116.06398829, 122.36375498, 123.07954689, 124.11735472,\n",
              "       119.96844193, 120.49435629, 124.00401313, 123.29834739,\n",
              "       127.07835215, 130.71052935, 130.49692282, 130.40385785])"
            ]
          },
          "metadata": {},
          "execution_count": 10
        }
      ]
    },
    {
      "cell_type": "code",
      "source": [
        "# 시각화\n",
        "plt.plot(X[:,1],y,'ko')\n",
        "plt.xlabel('$x_1$')\n",
        "plt.ylabel('$y')\n",
        "plt.show()"
      ],
      "metadata": {
        "colab": {
          "base_uri": "https://localhost:8080/",
          "height": 450
        },
        "id": "pX-XSAlJY6k9",
        "outputId": "3bef333f-7395-4b34-ba34-833e13098309"
      },
      "execution_count": 13,
      "outputs": [
        {
          "output_type": "display_data",
          "data": {
            "text/plain": [
              "<Figure size 640x480 with 1 Axes>"
            ],
            "image/png": "[encoded data removed]"
          },
          "metadata": {}
        }
      ]
    }
  ]
}