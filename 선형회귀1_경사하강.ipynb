{
  "nbformat": 4,
  "nbformat_minor": 0,
  "metadata": {
    "colab": {
      "provenance": [],
      "mount_file_id": "13lNfaX-vUmPYUOvk6J9oHcNTqUzT0Vbt",
      "authorship_tag": "ABX9TyMgh1TbZ5SIaRMYrHpk8w9Q",
      "include_colab_link": true
    },
    "kernelspec": {
      "name": "python3",
      "display_name": "Python 3"
    },
    "language_info": {
      "name": "python"
    }
  },
  "cells": [
    {
      "cell_type": "markdown",
      "metadata": {
        "id": "view-in-github",
        "colab_type": "text"
      },
      "source": [
        "<a href=\"https://colab.research.google.com/github/chw8207/ML_codingstudy/blob/main/%EC%84%A0%ED%98%95%ED%9A%8C%EA%B7%801_%EA%B2%BD%EC%82%AC%ED%95%98%EA%B0%95.ipynb\" target=\"_parent\"><img src=\"https://colab.research.google.com/assets/colab-badge.svg\" alt=\"Open In Colab\"/></a>"
      ]
    },
    {
      "cell_type": "markdown",
      "source": [
        "### 단순선형귀-경사하강(Gradient Descent)"
      ],
      "metadata": {
        "id": "bzpOkpJUW-4O"
      }
    },
    {
      "cell_type": "code",
      "execution_count": 1,
      "metadata": {
        "id": "T0zfKGVpUmYh"
      },
      "outputs": [],
      "source": [
        "import numpy as np\n",
        "import random\n",
        "\n",
        "import matplotlib.pyplot as plt"
      ]
    },
    {
      "cell_type": "code",
      "source": [
        "def generate_data(n_samples, bias, variance) : \n",
        "  X = np.zeros(shape=(n_samples, 2)) # 단순선형회귀(독립변수 1개)\n",
        "  y = np.zeros(shape=n_samples)\n",
        "\n",
        "  for i in range(n_samples) : \n",
        "    X[i][0] = 1 # X_0은 상수 1로 셋팅하기\n",
        "    X[i][1] = i # X_1값은 1씩 증가시키기\n",
        "    y[i] = (i+bias) + random.uniform(0,1) * variance # y에 bias생성하기\n",
        "\n",
        "  return X, y"
      ],
      "metadata": {
        "id": "8UWgeu-QXREM"
      },
      "execution_count": 7,
      "outputs": []
    },
    {
      "cell_type": "code",
      "source": [
        "X, y = generate_data(100, 25, 10)"
      ],
      "metadata": {
        "id": "TQhtTNmiYMKB"
      },
      "execution_count": 8,
      "outputs": []
    }
  ]
}